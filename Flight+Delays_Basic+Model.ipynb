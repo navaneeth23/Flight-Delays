{
 "cells": [
  {
   "cell_type": "code",
   "execution_count": 1,
   "metadata": {
    "collapsed": true
   },
   "outputs": [],
   "source": [
    "import pandas as pd\n",
    "import numpy as np\n",
    "from sklearn.linear_model import LinearRegression\n",
    "from sklearn.model_selection import train_test_split\n",
    "import sklearn"
   ]
  },
  {
   "cell_type": "code",
   "execution_count": 2,
   "metadata": {},
   "outputs": [
    {
     "name": "stderr",
     "output_type": "stream",
     "text": [
      "/usr/local/lib/python2.7/site-packages/IPython/core/interactiveshell.py:2717: DtypeWarning: Columns (7,8) have mixed types. Specify dtype option on import or set low_memory=False.\n",
      "  interactivity=interactivity, compiler=compiler, result=result)\n"
     ]
    }
   ],
   "source": [
    "airlines=pd.read_csv('./airlines.csv')\n",
    "airports=pd.read_csv('./airports.csv')\n",
    "flights=pd.read_csv('./flights.csv')"
   ]
  },
  {
   "cell_type": "code",
   "execution_count": 3,
   "metadata": {
    "collapsed": true
   },
   "outputs": [],
   "source": [
    "columns = ['DAY_OF_WEEK','AIRLINE','ORIGIN_AIRPORT','DESTINATION_AIRPORT','DEPARTURE_DELAY','ARRIVAL_DELAY']"
   ]
  },
  {
   "cell_type": "code",
   "execution_count": 4,
   "metadata": {
    "collapsed": true
   },
   "outputs": [],
   "source": [
    "main_airports = ['ANC', 'LAX', 'SFO', 'SEA', 'LAS', 'DEN', 'SLC', 'PDX', 'FAI',\n",
    "       'MSP', 'PHX', 'SJU', 'PBG', 'IAG', 'PSE', 'BQN', 'ORD', 'GEG',\n",
    "       'HNL', 'ONT', 'MCO', 'BOS', 'HIB', 'ABR', 'DFW', 'MKE', 'IAH',\n",
    "       'BNA', 'BRO', 'VPS', 'BOI', 'BJI', 'PHL', 'SBN', 'EUG', 'IAD',\n",
    "       'BUF', 'PWM', 'JFK', 'CRP', 'PIA', 'FAT', 'SMF', 'AUS', 'MCI',\n",
    "       'ATL', 'JAX', 'MFR', 'IDA', 'MSN', 'DCA', 'SAT', 'CHS', 'SBA',\n",
    "       'IND', 'CLE', 'GSP', 'BDL', 'RIC', 'BFL', 'OMA', 'RDM', 'FLL',\n",
    "       'CID', 'TPA', 'SYR', 'ROC', 'TYR', 'LAN', 'GSO', 'EWR', 'PBI',\n",
    "       'RSW', 'OAK', 'PVD', 'RNO', 'PIT', 'ABQ', 'MIA', 'BWI', 'TUL',\n",
    "       'LGA', 'LIT', 'MSY', 'OKC', 'ATW', 'PNS', 'MEM', 'TYS', 'MHT',\n",
    "       'SAV', 'CLT', 'GRB', 'ABE', 'JAN', 'OAJ', 'FAR', 'ERI', 'LEX',\n",
    "       'CWA', 'TTN', 'RDU', 'CVG', 'BHM', 'ACY', 'DTW', 'RAP', 'TUS',\n",
    "       'EAU', 'DLH', 'FSD', 'INL', 'SPI', 'CLD', 'COD', 'CMH', 'PSC',\n",
    "       'CPR', 'ACV', 'DAL', 'PAH', 'MRY', 'ESC', 'ISN', 'PSP', 'CAE',\n",
    "       'STL', 'BTV', 'MTJ', 'GCC', 'OGG', 'SJC', 'GUC', 'ORF', 'MOT',\n",
    "       'MLU', 'KOA', 'HOU', 'MOB', 'SAN', 'LAW', 'PIB', 'MGM', 'SBP',\n",
    "       'COS', 'LAR', 'DRO', 'BIS', 'ITO', 'BTR', 'HLN', 'BZN', 'MDW',\n",
    "       'MDT', 'SCE', 'LIH', 'TWF', 'BPT', 'GPT', 'STC', 'HPN', 'MLB',\n",
    "       'PLN', 'CIU', 'CAK', 'DSM', 'BLI', 'SHV', 'SNA', 'ALB', 'LNK',\n",
    "       'CMI', 'GTF', 'EKO', 'LGB', 'AVL', 'HSV', 'XNA', 'SUX', 'HYS',\n",
    "       'MFE', 'ISP', 'BUR', 'DAB', 'DAY', 'LFT', 'LBE', 'ASE', 'GUM',\n",
    "       'TVC', 'ALO', 'TLH', 'ELP', 'MHK', 'IMT', 'JNU', 'JAC', 'MEI',\n",
    "       'DBQ', 'GNV', 'BRD', 'DIK', 'SDF', 'LBB', 'AVP', 'SGF', 'COU',\n",
    "       'BTM', 'ELM', 'RKS', 'PIH', 'SUN', 'LWS', 'VEL', 'STT', 'SAF',\n",
    "       'YUM', 'FCA', 'GRR', 'HDN', 'ROA', 'CHA', 'EYW', 'MYR', 'CRW',\n",
    "       'MQT', 'CHO', 'GJT', 'FWA', 'ECP', 'EVV', 'MSO', 'EGE', 'AMA',\n",
    "       'MLI', 'MBS', 'GFK', 'GRK', 'BIL', 'OTZ', 'KTN', 'STX', 'ILM',\n",
    "       'PUB', 'RHI', 'CDC', 'HRL', 'SCC', 'FNT', 'LSE', 'MMH', 'ACT',\n",
    "       'FSM', 'AGS', 'CEC', 'ICT', 'AEX', 'DHN', 'LRD', 'WRG', 'PHF',\n",
    "       'CNY', 'BRW', 'GGG', 'AZO', 'CLL', 'SRQ', 'ORH', 'FLG', 'TRI',\n",
    "       'VLD', 'SIT', 'BQK', 'BMI', 'PSG', 'FAY', 'MKG', 'CSG', 'MAF',\n",
    "       'EWN', 'OME', 'CMX', 'JMS', 'SGU', 'RST', 'GTR', 'BET', 'TOL',\n",
    "       'APN', 'SMX', 'LCH', 'RDD', 'GCK', 'DVL', 'GRI', 'ABY', 'SWF',\n",
    "       'ILG', 'JLN', 'ADK', 'UST', 'TXK', 'SPS', 'ABI', 'YAK', 'SJT',\n",
    "       'CDV', 'OTH', 'ADQ', 'PPG', 'ROW', 'HOB', 'BGM', 'BGR', 'ITH',\n",
    "       'ACK', 'MVY', 'WYS', 'DLG', 'AKN', 'GST', 'HYA']"
   ]
  },
  {
   "cell_type": "code",
   "execution_count": 5,
   "metadata": {
    "collapsed": true
   },
   "outputs": [],
   "source": [
    "df = flights[columns]"
   ]
  },
  {
   "cell_type": "code",
   "execution_count": 6,
   "metadata": {
    "collapsed": true
   },
   "outputs": [],
   "source": [
    "df1 = flights[columns][df.ORIGIN_AIRPORT.isin(main_airports)]"
   ]
  },
  {
   "cell_type": "code",
   "execution_count": 7,
   "metadata": {},
   "outputs": [
    {
     "data": {
      "text/plain": [
       "DAY_OF_WEEK              int64\n",
       "AIRLINE                 object\n",
       "ORIGIN_AIRPORT          object\n",
       "DESTINATION_AIRPORT     object\n",
       "DEPARTURE_DELAY        float64\n",
       "ARRIVAL_DELAY          float64\n",
       "dtype: object"
      ]
     },
     "execution_count": 7,
     "metadata": {},
     "output_type": "execute_result"
    }
   ],
   "source": [
    "df1.dtypes"
   ]
  },
  {
   "cell_type": "code",
   "execution_count": 8,
   "metadata": {},
   "outputs": [
    {
     "data": {
      "text/plain": [
       "DAY_OF_WEEK            False\n",
       "AIRLINE                False\n",
       "ORIGIN_AIRPORT         False\n",
       "DESTINATION_AIRPORT    False\n",
       "DEPARTURE_DELAY         True\n",
       "ARRIVAL_DELAY           True\n",
       "dtype: bool"
      ]
     },
     "execution_count": 8,
     "metadata": {},
     "output_type": "execute_result"
    }
   ],
   "source": [
    "df1.isnull().any()"
   ]
  },
  {
   "cell_type": "code",
   "execution_count": 9,
   "metadata": {
    "collapsed": true
   },
   "outputs": [],
   "source": [
    "df1 = df1.dropna(axis=0, how='any')"
   ]
  },
  {
   "cell_type": "code",
   "execution_count": 10,
   "metadata": {},
   "outputs": [
    {
     "data": {
      "text/plain": [
       "DAY_OF_WEEK            False\n",
       "AIRLINE                False\n",
       "ORIGIN_AIRPORT         False\n",
       "DESTINATION_AIRPORT    False\n",
       "DEPARTURE_DELAY        False\n",
       "ARRIVAL_DELAY          False\n",
       "dtype: bool"
      ]
     },
     "execution_count": 10,
     "metadata": {},
     "output_type": "execute_result"
    }
   ],
   "source": [
    "df1.isnull().any()"
   ]
  },
  {
   "cell_type": "code",
   "execution_count": 11,
   "metadata": {
    "collapsed": true
   },
   "outputs": [],
   "source": [
    "df2 = pd.get_dummies(df1)"
   ]
  },
  {
   "cell_type": "code",
   "execution_count": 12,
   "metadata": {
    "collapsed": true
   },
   "outputs": [],
   "source": [
    "train, test = train_test_split(df2, test_size=0.75)"
   ]
  },
  {
   "cell_type": "code",
   "execution_count": 13,
   "metadata": {
    "collapsed": true
   },
   "outputs": [],
   "source": [
    "y_columns = ['DEPARTURE_DELAY', 'ARRIVAL_DELAY']\n",
    "x_columns = [col for col in train.columns if col not in y_columns]\n"
   ]
  },
  {
   "cell_type": "code",
   "execution_count": 14,
   "metadata": {
    "collapsed": true
   },
   "outputs": [],
   "source": [
    "x_train = train[x_columns]\n",
    "y_train = train[y_columns]"
   ]
  },
  {
   "cell_type": "code",
   "execution_count": 15,
   "metadata": {
    "collapsed": true
   },
   "outputs": [],
   "source": [
    "lm = sklearn.linear_model.LinearRegression()"
   ]
  },
  {
   "cell_type": "code",
   "execution_count": 16,
   "metadata": {},
   "outputs": [
    {
     "name": "stderr",
     "output_type": "stream",
     "text": [
      "/usr/local/lib/python2.7/site-packages/scipy/linalg/basic.py:1226: RuntimeWarning: internal gelsd driver lwork query error, required iwork dimension not returned. This is likely the result of LAPACK bug 0038, fixed in LAPACK 3.2.2 (released July 21, 2010). Falling back to 'gelss' driver.\n",
      "  warnings.warn(mesg, RuntimeWarning)\n"
     ]
    },
    {
     "data": {
      "text/plain": [
       "LinearRegression(copy_X=True, fit_intercept=True, n_jobs=1, normalize=False)"
      ]
     },
     "execution_count": 16,
     "metadata": {},
     "output_type": "execute_result"
    }
   ],
   "source": [
    "lm.fit(x_train, y_train['DEPARTURE_DELAY'])"
   ]
  },
  {
   "cell_type": "code",
   "execution_count": 17,
   "metadata": {},
   "outputs": [
    {
     "data": {
      "text/plain": [
       "array([ -2.95104174e-01,  -4.79989238e+09,  -4.79989238e+09,\n",
       "        -4.79989237e+09,  -4.79989238e+09,  -4.79989237e+09,\n",
       "        -4.79989237e+09,  -4.79989238e+09,  -4.79989237e+09,\n",
       "        -4.79989237e+09,  -4.79989237e+09,  -4.79989237e+09,\n",
       "        -4.79989238e+09,  -4.79989238e+09,  -4.79989237e+09,\n",
       "         1.16657423e+11,   1.16657423e+11,   1.16657423e+11,\n",
       "         1.16657423e+11,   1.16657423e+11,   1.16657423e+11,\n",
       "         1.16657423e+11,   1.16657423e+11,   1.16657423e+11,\n",
       "         1.16657423e+11,   1.16657423e+11,   1.16657423e+11,\n",
       "         1.16657423e+11,   1.16657423e+11,   1.16657423e+11,\n",
       "         1.16657423e+11,   1.16657423e+11,   1.16657423e+11,\n",
       "         1.16657423e+11,   1.16657423e+11,   1.16657423e+11,\n",
       "         1.16657423e+11,   1.16657423e+11,   1.16657423e+11,\n",
       "         1.16657423e+11,   1.16657423e+11,   1.16657423e+11,\n",
       "         1.16657423e+11,   1.16657423e+11,   1.16657423e+11,\n",
       "         1.16657423e+11,   1.16657423e+11,   1.16657423e+11,\n",
       "         1.16657423e+11,   1.16657423e+11,   1.16657423e+11,\n",
       "         1.16657423e+11,   1.16657423e+11,   1.16657423e+11,\n",
       "         1.16657423e+11,   1.16657423e+11,   1.16657423e+11,\n",
       "         1.16657423e+11,   1.16657423e+11,   1.16657423e+11,\n",
       "         1.16657423e+11,   1.16657423e+11,   1.16657423e+11,\n",
       "         1.16657423e+11,   1.16657423e+11,   1.16657423e+11,\n",
       "         1.16657423e+11,   1.16657423e+11,   1.16657423e+11,\n",
       "         1.16657423e+11,   1.16657423e+11,   1.16657423e+11,\n",
       "         1.16657423e+11,   1.16657423e+11,   1.16657423e+11,\n",
       "         1.16657423e+11,   1.16657423e+11,   1.16657423e+11,\n",
       "         1.16657423e+11,   1.16657423e+11,   1.16657423e+11,\n",
       "         1.16657423e+11,   1.16657423e+11,   1.16657423e+11,\n",
       "         1.16657423e+11,   1.16657423e+11,   1.16657423e+11,\n",
       "         1.16657423e+11,   1.16657423e+11,   1.16657423e+11,\n",
       "         1.16657423e+11,   1.16657423e+11,   1.16657423e+11,\n",
       "         1.16657423e+11,   1.16657423e+11,   1.16657423e+11,\n",
       "         1.16657423e+11,   1.16657423e+11,   1.16657423e+11,\n",
       "         1.16657423e+11,   1.16657423e+11,   1.16657423e+11,\n",
       "         1.16657423e+11,   1.16657423e+11,   1.16657423e+11,\n",
       "         1.16657423e+11,   1.16657423e+11,   1.16657423e+11,\n",
       "         1.16657423e+11,   1.16657423e+11,   1.16657423e+11,\n",
       "         1.16657423e+11,   1.16657423e+11,   1.16657423e+11,\n",
       "         1.16657423e+11,   1.16657423e+11,   1.16657423e+11,\n",
       "         1.16657423e+11,   1.16657423e+11,   1.16657423e+11,\n",
       "         1.16657423e+11,   1.16657423e+11,   1.16657423e+11,\n",
       "         1.16657423e+11,   1.16657423e+11,   1.16657423e+11,\n",
       "         1.16657423e+11,   1.16657423e+11,   1.16657423e+11,\n",
       "         1.16657423e+11,   1.16657423e+11,   1.16657423e+11,\n",
       "         1.16657423e+11,   1.16657423e+11,   1.16657423e+11,\n",
       "         1.16657423e+11,   1.16657423e+11,   1.16657423e+11,\n",
       "         1.16657423e+11,   1.16657423e+11,   1.16657423e+11,\n",
       "         1.16657423e+11,   1.16657423e+11,   1.16657423e+11,\n",
       "         1.16657423e+11,   1.16657423e+11,   1.16657423e+11,\n",
       "         1.16657423e+11,   1.16657423e+11,   1.16657423e+11,\n",
       "         1.16657423e+11,   1.16657423e+11,   1.16657423e+11,\n",
       "         1.16657423e+11,   1.16657423e+11,   1.16657423e+11,\n",
       "         1.16657423e+11,   1.16657423e+11,   1.16657423e+11,\n",
       "         1.16657423e+11,   1.16657423e+11,   1.16657423e+11,\n",
       "         1.16657423e+11,   1.16657423e+11,   1.16657423e+11,\n",
       "         1.16657423e+11,   1.16657423e+11,   1.16657423e+11,\n",
       "         1.16657423e+11,   1.16657423e+11,   1.16657423e+11,\n",
       "         1.16657423e+11,   1.16657423e+11,   1.16657423e+11,\n",
       "         1.16657423e+11,   1.16657423e+11,   1.16657423e+11,\n",
       "         1.16657423e+11,   1.16657423e+11,   1.16657423e+11,\n",
       "         1.16657423e+11,   1.16657423e+11,   1.16657423e+11,\n",
       "         1.16657423e+11,   1.16657423e+11,   1.16657423e+11,\n",
       "         1.16657423e+11,   1.16657423e+11,   1.16657423e+11,\n",
       "         1.16657423e+11,   1.16657423e+11,   1.16657423e+11,\n",
       "         1.16657423e+11,   1.16657423e+11,   1.16657423e+11,\n",
       "         1.16657423e+11,   1.16657423e+11,   1.16657423e+11,\n",
       "         1.16657423e+11,   1.16657423e+11,   1.16657423e+11,\n",
       "         1.16657423e+11,   1.16657423e+11,   1.16657423e+11,\n",
       "         1.16657423e+11,   1.16657423e+11,   1.16657423e+11,\n",
       "         1.16657423e+11,   1.16657423e+11,   1.16657423e+11,\n",
       "         1.16657423e+11,   1.16657423e+11,   1.16657423e+11,\n",
       "         1.16657423e+11,   1.16657423e+11,   1.16657423e+11,\n",
       "         1.16657423e+11,   1.16657423e+11,   1.16657423e+11,\n",
       "         1.16657423e+11,   1.16657423e+11,   1.16657423e+11,\n",
       "         1.16657423e+11,   1.16657423e+11,   1.16657423e+11,\n",
       "         1.16657423e+11,   1.16657423e+11,   1.16657423e+11,\n",
       "         1.16657423e+11,   1.16657423e+11,   1.16657423e+11,\n",
       "         1.16657423e+11,   1.16657423e+11,   1.16657423e+11,\n",
       "         1.16657423e+11,   1.16657423e+11,   1.16657423e+11,\n",
       "         1.16657423e+11,   1.16657423e+11,   1.16657423e+11,\n",
       "         1.16657423e+11,   1.16657423e+11,   1.16657423e+11,\n",
       "         1.16657423e+11,   1.16657423e+11,   1.16657423e+11,\n",
       "         1.16657423e+11,   1.16657423e+11,   1.16657423e+11,\n",
       "         1.16657423e+11,   1.16657423e+11,   1.16657423e+11,\n",
       "         1.16657423e+11,   1.16657423e+11,   1.16657423e+11,\n",
       "         1.16657423e+11,   1.16657423e+11,   1.16657423e+11,\n",
       "         1.16657423e+11,   1.16657423e+11,   1.16657423e+11,\n",
       "         1.16657423e+11,   1.16657423e+11,   1.16657423e+11,\n",
       "         1.16657423e+11,   1.16657423e+11,   1.16657423e+11,\n",
       "         1.16657423e+11,   1.16657423e+11,   1.16657423e+11,\n",
       "         1.16657423e+11,   1.16657423e+11,   1.16657423e+11,\n",
       "         1.16657423e+11,   1.16657423e+11,   1.16657423e+11,\n",
       "         1.16657423e+11,   1.16657423e+11,   1.16657423e+11,\n",
       "         1.16657423e+11,   1.16657423e+11,   1.16657423e+11,\n",
       "         1.16657423e+11,   1.16657423e+11,   1.16657423e+11,\n",
       "         1.16657423e+11,   1.16657423e+11,   1.16657423e+11,\n",
       "         1.16657423e+11,   1.16657423e+11,   1.16657423e+11,\n",
       "         1.16657423e+11,   1.16657423e+11,   1.16657423e+11,\n",
       "         1.16657423e+11,   1.16657423e+11,   1.16657423e+11,\n",
       "         1.16657423e+11,   1.16657423e+11,   1.16657423e+11,\n",
       "         1.16657423e+11,   1.16657423e+11,   1.16657423e+11,\n",
       "         1.16657423e+11,   1.16657423e+11,   1.16657423e+11,\n",
       "         1.16657423e+11,   1.16657423e+11,   1.16657423e+11,\n",
       "         1.16657423e+11,   1.16657423e+11,   1.16657423e+11,\n",
       "         1.16657423e+11,   1.16657423e+11,   1.16657423e+11,\n",
       "         1.16657423e+11,   1.16657423e+11,   1.16657423e+11,\n",
       "         1.16657423e+11,   1.16657423e+11,   1.16657423e+11,\n",
       "         1.16657423e+11,   1.16657423e+11,   1.16657423e+11,\n",
       "         1.16657423e+11,   1.16657423e+11,   1.16657423e+11,\n",
       "         1.16657423e+11,   1.16657423e+11,   1.16657423e+11,\n",
       "         1.16657423e+11,   1.16657423e+11,   1.16657423e+11,\n",
       "         1.16657423e+11,   1.16657423e+11,   1.16657423e+11,\n",
       "         1.16657423e+11,  -3.14508087e+10,  -3.14508087e+10,\n",
       "        -3.14508087e+10,  -3.14508087e+10,  -3.14508087e+10,\n",
       "        -3.14508087e+10,  -3.14508087e+10,  -3.14508087e+10,\n",
       "        -3.14508087e+10,  -3.14508087e+10,  -3.14508087e+10,\n",
       "        -3.14508087e+10,  -3.14508087e+10,  -3.14508087e+10,\n",
       "        -3.14508087e+10,  -3.14508087e+10,  -3.14508087e+10,\n",
       "        -3.14508087e+10,  -3.14508087e+10,  -3.14508087e+10,\n",
       "        -3.14508087e+10,  -3.14508087e+10,  -3.14508087e+10,\n",
       "        -3.14508087e+10,  -3.14508087e+10,  -3.14508087e+10,\n",
       "        -3.14508087e+10,  -3.14508087e+10,  -3.14508087e+10,\n",
       "        -3.14508087e+10,  -3.14508087e+10,  -3.14508087e+10,\n",
       "        -3.14508087e+10,  -3.14508087e+10,  -3.14508087e+10,\n",
       "        -3.14508087e+10,  -3.14508087e+10,  -3.14508087e+10,\n",
       "        -3.14508087e+10,  -3.14508087e+10,  -3.14508087e+10,\n",
       "        -3.14508087e+10,  -3.14508087e+10,  -3.14508087e+10,\n",
       "        -3.14508087e+10,  -3.14508087e+10,  -3.14508087e+10,\n",
       "        -3.14508087e+10,  -3.14508087e+10,  -3.14508087e+10,\n",
       "        -3.14508087e+10,  -3.14508087e+10,  -3.14508087e+10,\n",
       "        -3.14508087e+10,  -3.14508087e+10,  -3.14508087e+10,\n",
       "        -3.14508087e+10,  -3.14508087e+10,  -3.14508087e+10,\n",
       "        -3.14508087e+10,  -3.14508087e+10,  -3.14508087e+10,\n",
       "        -3.14508087e+10,  -3.14508087e+10,  -3.14508087e+10,\n",
       "        -3.14508087e+10,  -3.14508087e+10,  -3.14508087e+10,\n",
       "        -3.14508087e+10,  -3.14508087e+10,  -3.14508087e+10,\n",
       "        -3.14508087e+10,  -3.14508087e+10,  -3.14508087e+10,\n",
       "        -3.14508087e+10,  -3.14508087e+10,  -3.14508087e+10,\n",
       "        -3.14508087e+10,  -3.14508087e+10,  -3.14508087e+10,\n",
       "        -3.14508087e+10,  -3.14508087e+10,  -3.14508087e+10,\n",
       "        -3.14508087e+10,  -3.14508087e+10,  -3.14508087e+10,\n",
       "        -3.14508087e+10,  -3.14508087e+10,  -3.14508087e+10,\n",
       "        -3.14508087e+10,  -3.14508087e+10,  -3.14508087e+10,\n",
       "        -3.14508087e+10,  -3.14508087e+10,  -3.14508087e+10,\n",
       "        -3.14508087e+10,  -3.14508087e+10,  -3.14508087e+10,\n",
       "        -3.14508087e+10,  -3.14508087e+10,  -3.14508087e+10,\n",
       "        -3.14508087e+10,  -3.14508087e+10,  -3.14508087e+10,\n",
       "        -3.14508087e+10,  -3.14508087e+10,  -3.14508087e+10,\n",
       "        -3.14508087e+10,  -3.14508087e+10,  -3.14508087e+10,\n",
       "        -3.14508087e+10,  -3.14508087e+10,  -3.14508087e+10,\n",
       "        -3.14508087e+10,  -3.14508087e+10,  -3.14508087e+10,\n",
       "        -3.14508087e+10,  -3.14508087e+10,  -3.14508087e+10,\n",
       "        -3.14508087e+10,  -3.14508087e+10,  -3.14508087e+10,\n",
       "        -3.14508087e+10,  -3.14508087e+10,  -3.14508087e+10,\n",
       "        -3.14508087e+10,  -3.14508087e+10,  -3.14508087e+10,\n",
       "        -3.14508087e+10,  -3.14508087e+10,  -3.14508087e+10,\n",
       "        -3.14508087e+10,  -3.14508087e+10,  -3.14508087e+10,\n",
       "        -3.14508087e+10,  -3.14508087e+10,  -3.14508087e+10,\n",
       "        -3.14508087e+10,  -3.14508087e+10,  -3.14508087e+10,\n",
       "        -3.14508087e+10,  -3.14508087e+10,  -3.14508087e+10,\n",
       "        -3.14508087e+10,  -3.14508087e+10,  -3.14508087e+10,\n",
       "        -3.14508087e+10,  -3.14508087e+10,  -3.14508087e+10,\n",
       "        -3.14508087e+10,  -3.14508087e+10,  -3.14508087e+10,\n",
       "        -3.14508087e+10,  -3.14508087e+10,  -3.14508087e+10,\n",
       "        -3.14508087e+10,  -3.14508087e+10,  -3.14508087e+10,\n",
       "        -3.14508087e+10,  -3.14508087e+10,  -3.14508087e+10,\n",
       "        -3.14508087e+10,  -3.14508087e+10,  -3.14508087e+10,\n",
       "        -3.14508087e+10,  -3.14508087e+10,  -3.14508087e+10,\n",
       "        -3.14508087e+10,  -3.14508087e+10,  -3.14508087e+10,\n",
       "        -3.14508087e+10,  -3.14508087e+10,  -3.14508087e+10,\n",
       "        -3.14508087e+10,  -3.14508087e+10,  -3.14508087e+10,\n",
       "        -3.14508087e+10,  -3.14508087e+10,  -3.14508087e+10,\n",
       "        -3.14508087e+10,  -3.14508087e+10,  -3.14508087e+10,\n",
       "        -3.14508087e+10,  -3.14508087e+10,  -3.14508087e+10,\n",
       "        -3.14508087e+10,  -3.14508087e+10,  -3.14508087e+10,\n",
       "        -3.14508087e+10,  -3.14508087e+10,  -3.14508087e+10,\n",
       "        -3.14508087e+10,  -3.14508087e+10,  -3.14508087e+10,\n",
       "        -3.14508087e+10,  -3.14508087e+10,  -3.14508087e+10,\n",
       "        -3.14508087e+10,  -3.14508087e+10,  -3.14508087e+10,\n",
       "        -3.14508087e+10,  -3.14508087e+10,  -3.14508087e+10,\n",
       "        -3.14508087e+10,  -3.14508087e+10,  -3.14508087e+10,\n",
       "        -3.14508087e+10,  -3.14508087e+10,  -3.14508087e+10,\n",
       "        -3.14508087e+10,  -3.14508087e+10,  -3.14508087e+10,\n",
       "        -3.14508087e+10,  -3.14508087e+10,  -3.14508087e+10,\n",
       "        -3.14508087e+10,  -3.14508087e+10,  -3.14508087e+10,\n",
       "        -3.14508087e+10,  -3.14508087e+10,  -3.14508087e+10,\n",
       "        -3.14508087e+10,  -3.14508087e+10,  -3.14508087e+10,\n",
       "        -3.14508087e+10,  -3.14508087e+10,  -3.14508087e+10,\n",
       "        -3.14508087e+10,  -3.14508087e+10,  -3.14508087e+10,\n",
       "        -3.14508087e+10,  -3.14508087e+10,  -3.14508087e+10,\n",
       "        -3.14508087e+10,  -3.14508087e+10,  -3.14508087e+10,\n",
       "        -3.14508087e+10,  -3.14508087e+10,  -3.14508087e+10,\n",
       "        -3.14508087e+10,  -3.14508087e+10,  -3.14508087e+10,\n",
       "        -3.14508087e+10,  -3.14508087e+10,  -3.14508087e+10,\n",
       "        -3.14508087e+10,  -3.14508087e+10,  -3.14508087e+10,\n",
       "        -3.14508087e+10,  -3.14508087e+10,  -3.14508087e+10,\n",
       "        -3.14508087e+10,  -3.14508087e+10,  -3.14508087e+10,\n",
       "        -3.14508087e+10,  -3.14508087e+10,  -3.14508087e+10,\n",
       "        -3.14508087e+10,  -3.14508087e+10,  -3.14508087e+10,\n",
       "        -3.14508087e+10,  -3.14508087e+10,  -3.14508087e+10,\n",
       "        -3.14508087e+10,  -3.14508087e+10,  -3.14508087e+10,\n",
       "        -3.14508087e+10,  -3.14508087e+10,  -3.14508087e+10,\n",
       "        -3.14508087e+10,  -3.14508087e+10,  -3.14508087e+10,\n",
       "        -3.14508087e+10,  -3.14508087e+10,  -3.14508087e+10,\n",
       "        -3.14508087e+10,  -3.14508087e+10,  -3.14508087e+10,\n",
       "        -3.14508087e+10,  -3.14508087e+10,  -3.14508087e+10,\n",
       "        -3.14508087e+10,  -3.14508087e+10,  -3.14508087e+10,\n",
       "        -3.14508087e+10,  -3.14508087e+10,  -3.14508087e+10,\n",
       "        -3.14508087e+10,  -3.14508087e+10,  -3.14508087e+10,\n",
       "        -3.14508087e+10,  -3.14508087e+10,  -3.14508087e+10,\n",
       "        -3.14508087e+10,  -3.14508087e+10,  -3.14508087e+10,\n",
       "        -3.14508087e+10,  -3.14508087e+10,  -3.14508087e+10,\n",
       "        -3.14508087e+10,  -3.14508087e+10,  -3.14508087e+10,\n",
       "        -3.14508087e+10,  -3.14508087e+10,  -3.14508087e+10,\n",
       "        -3.14508087e+10,  -3.14508087e+10,  -3.14508087e+10,\n",
       "        -3.14508087e+10,  -3.14508087e+10,  -3.14508087e+10,\n",
       "        -3.14508087e+10,  -3.14508087e+10,  -3.14508087e+10,\n",
       "        -3.14508087e+10,  -3.14508087e+10,  -3.14508087e+10,\n",
       "        -3.14508087e+10,  -3.14508087e+10,  -3.14508087e+10,\n",
       "        -3.14508087e+10,  -3.14508087e+10])"
      ]
     },
     "execution_count": 17,
     "metadata": {},
     "output_type": "execute_result"
    }
   ],
   "source": [
    "lm.coef_"
   ]
  },
  {
   "cell_type": "code",
   "execution_count": 18,
   "metadata": {
    "collapsed": true
   },
   "outputs": [],
   "source": [
    "x_test = test[x_columns]"
   ]
  },
  {
   "cell_type": "code",
   "execution_count": 19,
   "metadata": {
    "collapsed": true
   },
   "outputs": [],
   "source": [
    "y_predict = lm.predict(x_test)"
   ]
  },
  {
   "cell_type": "code",
   "execution_count": 20,
   "metadata": {
    "collapsed": true
   },
   "outputs": [],
   "source": [
    "y_test = test[y_columns]"
   ]
  },
  {
   "cell_type": "code",
   "execution_count": 21,
   "metadata": {
    "collapsed": true
   },
   "outputs": [],
   "source": [
    "y_true = y_test['DEPARTURE_DELAY']"
   ]
  },
  {
   "cell_type": "code",
   "execution_count": 22,
   "metadata": {
    "collapsed": true
   },
   "outputs": [],
   "source": [
    "from sklearn.metrics import accuracy_score"
   ]
  },
  {
   "cell_type": "code",
   "execution_count": 24,
   "metadata": {},
   "outputs": [
    {
     "data": {
      "text/plain": [
       "3923348"
      ]
     },
     "execution_count": 24,
     "metadata": {},
     "output_type": "execute_result"
    }
   ],
   "source": [
    "len(y_predict)"
   ]
  },
  {
   "cell_type": "code",
   "execution_count": 25,
   "metadata": {},
   "outputs": [
    {
     "data": {
      "text/plain": [
       "3923348"
      ]
     },
     "execution_count": 25,
     "metadata": {},
     "output_type": "execute_result"
    }
   ],
   "source": [
    "len(y_true)"
   ]
  },
  {
   "cell_type": "code",
   "execution_count": 26,
   "metadata": {
    "collapsed": true
   },
   "outputs": [],
   "source": [
    "from sklearn import metrics"
   ]
  },
  {
   "cell_type": "code",
   "execution_count": 27,
   "metadata": {},
   "outputs": [
    {
     "name": "stdout",
     "output_type": "stream",
     "text": [
      "37.168793716\n"
     ]
    }
   ],
   "source": [
    "print(np.sqrt(metrics.mean_squared_error(y_true,y_predict)))"
   ]
  },
  {
   "cell_type": "code",
   "execution_count": 28,
   "metadata": {
    "collapsed": true
   },
   "outputs": [],
   "source": [
    "lm1 = sklearn.linear_model.LinearRegression()"
   ]
  },
  {
   "cell_type": "code",
   "execution_count": 29,
   "metadata": {},
   "outputs": [
    {
     "data": {
      "text/plain": [
       "LinearRegression(copy_X=True, fit_intercept=True, n_jobs=1, normalize=False)"
      ]
     },
     "execution_count": 29,
     "metadata": {},
     "output_type": "execute_result"
    }
   ],
   "source": [
    "lm1.fit(x_train, y_train['ARRIVAL_DELAY'])"
   ]
  },
  {
   "cell_type": "code",
   "execution_count": 30,
   "metadata": {
    "collapsed": true
   },
   "outputs": [],
   "source": [
    "y_true_arrival = y_test['ARRIVAL_DELAY']"
   ]
  },
  {
   "cell_type": "code",
   "execution_count": 31,
   "metadata": {},
   "outputs": [
    {
     "name": "stdout",
     "output_type": "stream",
     "text": [
      "39.9747554682\n"
     ]
    }
   ],
   "source": [
    "print(np.sqrt(metrics.mean_squared_error(y_true_arrival,y_predict)))"
   ]
  },
  {
   "cell_type": "code",
   "execution_count": null,
   "metadata": {
    "collapsed": true
   },
   "outputs": [],
   "source": []
  },
  {
   "cell_type": "code",
   "execution_count": null,
   "metadata": {
    "collapsed": true
   },
   "outputs": [],
   "source": []
  },
  {
   "cell_type": "code",
   "execution_count": null,
   "metadata": {
    "collapsed": true
   },
   "outputs": [],
   "source": []
  },
  {
   "cell_type": "code",
   "execution_count": null,
   "metadata": {
    "collapsed": true
   },
   "outputs": [],
   "source": []
  },
  {
   "cell_type": "code",
   "execution_count": null,
   "metadata": {
    "collapsed": true
   },
   "outputs": [],
   "source": []
  },
  {
   "cell_type": "code",
   "execution_count": null,
   "metadata": {
    "collapsed": true
   },
   "outputs": [],
   "source": []
  },
  {
   "cell_type": "code",
   "execution_count": null,
   "metadata": {
    "collapsed": true
   },
   "outputs": [],
   "source": [
    " "
   ]
  },
  {
   "cell_type": "code",
   "execution_count": null,
   "metadata": {
    "collapsed": true
   },
   "outputs": [],
   "source": []
  },
  {
   "cell_type": "code",
   "execution_count": null,
   "metadata": {
    "collapsed": true
   },
   "outputs": [],
   "source": []
  },
  {
   "cell_type": "code",
   "execution_count": null,
   "metadata": {
    "collapsed": true
   },
   "outputs": [],
   "source": []
  },
  {
   "cell_type": "code",
   "execution_count": null,
   "metadata": {
    "collapsed": true
   },
   "outputs": [],
   "source": []
  },
  {
   "cell_type": "raw",
   "metadata": {},
   "source": []
  },
  {
   "cell_type": "code",
   "execution_count": null,
   "metadata": {
    "collapsed": true
   },
   "outputs": [],
   "source": []
  },
  {
   "cell_type": "code",
   "execution_count": null,
   "metadata": {
    "collapsed": true
   },
   "outputs": [],
   "source": []
  },
  {
   "cell_type": "code",
   "execution_count": null,
   "metadata": {
    "collapsed": true
   },
   "outputs": [],
   "source": []
  },
  {
   "cell_type": "code",
   "execution_count": null,
   "metadata": {
    "collapsed": true
   },
   "outputs": [],
   "source": []
  },
  {
   "cell_type": "code",
   "execution_count": null,
   "metadata": {
    "collapsed": true
   },
   "outputs": [],
   "source": []
  },
  {
   "cell_type": "code",
   "execution_count": null,
   "metadata": {
    "collapsed": true
   },
   "outputs": [],
   "source": []
  }
 ],
 "metadata": {
  "kernelspec": {
   "display_name": "Python 2",
   "language": "python",
   "name": "python2"
  },
  "language_info": {
   "codemirror_mode": {
    "name": "ipython",
    "version": 2
   },
   "file_extension": ".py",
   "mimetype": "text/x-python",
   "name": "python",
   "nbconvert_exporter": "python",
   "pygments_lexer": "ipython2",
   "version": "2.7.13"
  }
 },
 "nbformat": 4,
 "nbformat_minor": 2
}
